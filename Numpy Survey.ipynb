{
 "cells": [
  {
   "cell_type": "markdown",
   "metadata": {},
   "source": [
    "# Numpy Survey"
   ]
  },
  {
   "cell_type": "markdown",
   "metadata": {},
   "source": [
    "- [NumPy](http://www.numpy.org/) - fast processing for N-dimensional arrays "
   ]
  },
  {
   "cell_type": "code",
   "execution_count": 1,
   "metadata": {},
   "outputs": [
    {
     "name": "stdout",
     "output_type": "stream",
     "text": [
      "Numpy version: 1.16.4\n"
     ]
    }
   ],
   "source": [
    "import numpy as np\n",
    "import matplotlib.pyplot as plt\n",
    "\n",
    "# plot all graphs inline\n",
    "%matplotlib inline    \n",
    "\n",
    "print(\"Numpy version: {}\".format(np.__version__))"
   ]
  },
  {
   "cell_type": "markdown",
   "metadata": {},
   "source": [
    "## numpy.ndarray"
   ]
  },
  {
   "cell_type": "markdown",
   "metadata": {},
   "source": [
    "The `numpy.ndarray` is the fundamental type provided by numpy, it is an optimized array container, which stores homogeneous elements (same type) and can be multi-dimensional.  A `numpy` array acts as a sequence similar to a `list` but is an object with many attributes and member functions, some useful attributes are:\n",
    "\n",
    "- `dtype`: type of data stored: `int[8|16|32|64]`, `uint[8|16|32|64]`, `float[32|64]`\n",
    "- `ndim`: number of dimensions, also know as the **rank**\n",
    "- `shape`: tuple w/ rows, columns, depth\n",
    "- `size`: total number of elements, regrardless of dimensions (product of `shape` elements)\n",
    "- `itemsize`: size of a single element in bytes\n",
    "- `nbytes`: `size*itemsize`\n",
    "- `T`: transpose of array\n",
    "- `flat`: iterator for flattened elements of array\n",
    "\n",
    "**Note**: `numpy` does not always distinguish between N X 1 arrays (column vector) and 1 X N arrays (row vector), and transposes between these two are generally unnecessary in `numpy`."
   ]
  },
  {
   "cell_type": "markdown",
   "metadata": {},
   "source": [
    "## Array Creation"
   ]
  },
  {
   "cell_type": "markdown",
   "metadata": {},
   "source": [
    "There are several ways to create an array, many of which are familiar from MATLAB:"
   ]
  },
  {
   "cell_type": "code",
   "execution_count": 3,
   "metadata": {},
   "outputs": [
    {
     "name": "stdout",
     "output_type": "stream",
     "text": [
      "int64 int64 float64\n"
     ]
    },
    {
     "data": {
      "text/plain": [
       "array([1, 2, 3, 4])"
      ]
     },
     "execution_count": 3,
     "metadata": {},
     "output_type": "execute_result"
    }
   ],
   "source": [
    "a = np.array([1,2,3,4])   # Create from a Python list, dtype is inferred\n",
    "b = np.arange(4)          # Create a range of values of length 4, starting at 0   \n",
    "c = np.arange(4.0)        # Same as b but dtype == float64\n",
    "\n",
    "# Note dtypes are much more specific than int or float\n",
    "print(a.dtype, b.dtype, c.dtype)\n",
    "a"
   ]
  },
  {
   "cell_type": "markdown",
   "metadata": {},
   "source": [
    "There are also a wealth of other possibile ways:"
   ]
  },
  {
   "cell_type": "code",
   "execution_count": 4,
   "metadata": {},
   "outputs": [
    {
     "data": {
      "text/plain": [
       "array([1., 1., 1., 1., 1., 1., 1., 1., 1., 1.])"
      ]
     },
     "execution_count": 4,
     "metadata": {},
     "output_type": "execute_result"
    }
   ],
   "source": [
    "np.ones(10)"
   ]
  },
  {
   "cell_type": "code",
   "execution_count": 5,
   "metadata": {},
   "outputs": [
    {
     "data": {
      "text/plain": [
       "array([1, 1, 1, 1])"
      ]
     },
     "execution_count": 5,
     "metadata": {},
     "output_type": "execute_result"
    }
   ],
   "source": [
    "np.ones_like(a)    # same length and dtype as input arrray"
   ]
  },
  {
   "cell_type": "code",
   "execution_count": 6,
   "metadata": {},
   "outputs": [
    {
     "data": {
      "text/plain": [
       "array([0., 0., 0., 0., 0.])"
      ]
     },
     "execution_count": 6,
     "metadata": {},
     "output_type": "execute_result"
    }
   ],
   "source": [
    "np.zeros(5)    # also a zeros_like"
   ]
  },
  {
   "cell_type": "code",
   "execution_count": 7,
   "metadata": {},
   "outputs": [
    {
     "data": {
      "text/plain": [
       "array([0, 1, 2, 3, 4, 5, 6, 7, 8, 9])"
      ]
     },
     "execution_count": 7,
     "metadata": {},
     "output_type": "execute_result"
    }
   ],
   "source": [
    "np.arange(10)"
   ]
  },
  {
   "cell_type": "code",
   "execution_count": 8,
   "metadata": {},
   "outputs": [
    {
     "data": {
      "text/plain": [
       "array([10, 13, 16, 19])"
      ]
     },
     "execution_count": 8,
     "metadata": {},
     "output_type": "execute_result"
    }
   ],
   "source": [
    "np.arange(10,20,3)     # start, stop, step - but unclear exactly how many points you'll get"
   ]
  },
  {
   "cell_type": "code",
   "execution_count": 9,
   "metadata": {},
   "outputs": [
    {
     "data": {
      "text/plain": [
       "array([10. , 12.5, 15. , 17.5, 20. ])"
      ]
     },
     "execution_count": 9,
     "metadata": {},
     "output_type": "execute_result"
    }
   ],
   "source": [
    "np.linspace(10,20,5)   # start, stop, N"
   ]
  },
  {
   "cell_type": "markdown",
   "metadata": {},
   "source": [
    "# Two-dimensional arrays"
   ]
  },
  {
   "cell_type": "code",
   "execution_count": 10,
   "metadata": {},
   "outputs": [
    {
     "data": {
      "text/plain": [
       "array([[1., 0., 0.],\n",
       "       [0., 1., 0.],\n",
       "       [0., 0., 1.]])"
      ]
     },
     "execution_count": 10,
     "metadata": {},
     "output_type": "execute_result"
    }
   ],
   "source": [
    "np.eye(3)"
   ]
  },
  {
   "cell_type": "code",
   "execution_count": 13,
   "metadata": {},
   "outputs": [
    {
     "data": {
      "text/plain": [
       "array([[1., 1., 1.],\n",
       "       [1., 1., 1.],\n",
       "       [1., 1., 1.],\n",
       "       [1., 1., 1.],\n",
       "       [1., 1., 1.]])"
      ]
     },
     "execution_count": 13,
     "metadata": {},
     "output_type": "execute_result"
    }
   ],
   "source": [
    "np.ones((5,3))   # 5 rows 3 columns, Note: argument must be a tuple (this is ALMOST universal)  "
   ]
  },
  {
   "cell_type": "code",
   "execution_count": 14,
   "metadata": {},
   "outputs": [
    {
     "data": {
      "text/plain": [
       "array([[ 0.88931026,  0.19768436, -0.41871658],\n",
       "       [-1.15783353, -1.5504955 ,  0.01227084],\n",
       "       [ 0.01349353, -0.63165772,  0.4708089 ],\n",
       "       [ 0.3957322 , -0.45932214, -1.43199024],\n",
       "       [ 2.36057437, -0.68752536,  1.73476142]])"
      ]
     },
     "execution_count": 14,
     "metadata": {},
     "output_type": "execute_result"
    }
   ],
   "source": [
    "b = np.random.randn(5,3)   # EXCEPT for randn where argument must not be a tuple\n",
    "b"
   ]
  },
  {
   "cell_type": "code",
   "execution_count": null,
   "metadata": {},
   "outputs": [],
   "source": [
    "# np.random.rand((5,3))   # raises TypeError\n",
    "# np.ones(5,3)            # raises TypeError"
   ]
  },
  {
   "cell_type": "markdown",
   "metadata": {},
   "source": [
    "the `ones_like` and `zeros_like` functions also handle multi-dimensional arrays just fine"
   ]
  },
  {
   "cell_type": "code",
   "execution_count": 16,
   "metadata": {},
   "outputs": [
    {
     "data": {
      "text/plain": [
       "array([[0., 0., 0.],\n",
       "       [0., 0., 0.],\n",
       "       [0., 0., 0.],\n",
       "       [0., 0., 0.],\n",
       "       [0., 0., 0.]])"
      ]
     },
     "execution_count": 16,
     "metadata": {},
     "output_type": "execute_result"
    }
   ],
   "source": [
    "np.zeros_like(b)"
   ]
  },
  {
   "cell_type": "code",
   "execution_count": 19,
   "metadata": {},
   "outputs": [
    {
     "data": {
      "text/plain": [
       "array([[-1.15783353, -1.5504955 ,  0.01227084],\n",
       "       [ 0.01349353, -0.63165772,  0.4708089 ]])"
      ]
     },
     "execution_count": 19,
     "metadata": {},
     "output_type": "execute_result"
    }
   ],
   "source": [
    "b[1:3, :]"
   ]
  },
  {
   "cell_type": "markdown",
   "metadata": {},
   "source": [
    "## Combining or Stiching Arrays\n",
    "\n",
    "Using Python out of the box we have the `zip` function which combines lists together but in `numpy` we have a richer syntax as we need to accomplish different things with our arrays, the sematics are \"more complicated.\""
   ]
  },
  {
   "cell_type": "code",
   "execution_count": 20,
   "metadata": {},
   "outputs": [],
   "source": [
    "x=np.arange(10)\n",
    "y=x**2\n",
    "z=x**3+3*x**2+3*x+1"
   ]
  },
  {
   "cell_type": "code",
   "execution_count": 21,
   "metadata": {},
   "outputs": [
    {
     "data": {
      "text/plain": [
       "array([[   0,    0,    1],\n",
       "       [   1,    1,    8],\n",
       "       [   2,    4,   27],\n",
       "       [   3,    9,   64],\n",
       "       [   4,   16,  125],\n",
       "       [   5,   25,  216],\n",
       "       [   6,   36,  343],\n",
       "       [   7,   49,  512],\n",
       "       [   8,   64,  729],\n",
       "       [   9,   81, 1000]])"
      ]
     },
     "execution_count": 21,
     "metadata": {},
     "output_type": "execute_result"
    }
   ],
   "source": [
    "xyz=np.column_stack((x, y, z))  # treat each tuple member as a new column\n",
    "xyz"
   ]
  },
  {
   "cell_type": "code",
   "execution_count": 22,
   "metadata": {},
   "outputs": [
    {
     "data": {
      "text/plain": [
       "array([[   0,    1,    2,    3,    4,    5,    6,    7,    8,    9],\n",
       "       [   0,    1,    4,    9,   16,   25,   36,   49,   64,   81],\n",
       "       [   1,    8,   27,   64,  125,  216,  343,  512,  729, 1000]])"
      ]
     },
     "execution_count": 22,
     "metadata": {},
     "output_type": "execute_result"
    }
   ],
   "source": [
    "np.row_stack((x,y, z))   "
   ]
  },
  {
   "cell_type": "code",
   "execution_count": 23,
   "metadata": {},
   "outputs": [
    {
     "data": {
      "text/plain": [
       "array([[   0,    1,    2,    3,    4,    5,    6,    7,    8,    9],\n",
       "       [   0,    1,    4,    9,   16,   25,   36,   49,   64,   81],\n",
       "       [   1,    8,   27,   64,  125,  216,  343,  512,  729, 1000]])"
      ]
     },
     "execution_count": 23,
     "metadata": {},
     "output_type": "execute_result"
    }
   ],
   "source": [
    "np.vstack((x,y,z))  # equivalent to row_stack always"
   ]
  },
  {
   "cell_type": "code",
   "execution_count": 25,
   "metadata": {},
   "outputs": [
    {
     "data": {
      "text/plain": [
       "array([   0,    1,    2,    3,    4,    5,    6,    7,    8,    9,    0,\n",
       "          1,    4,    9,   16,   25,   36,   49,   64,   81,    1,    8,\n",
       "         27,   64,  125,  216,  343,  512,  729, 1000])"
      ]
     },
     "execution_count": 25,
     "metadata": {},
     "output_type": "execute_result"
    }
   ],
   "source": [
    "np.hstack((x,y,z))  # not equivalent to column_stack, hstack more useful for combining two dimensional arrays"
   ]
  },
  {
   "cell_type": "code",
   "execution_count": 26,
   "metadata": {},
   "outputs": [],
   "source": [
    "np.vstack?"
   ]
  },
  {
   "cell_type": "markdown",
   "metadata": {},
   "source": [
    "## Loops are Evil !!\n",
    "\n",
    "For a small number of elements, loops are fine but when you have a large number of elements, the standard Python methods of looping are not always sufficient. The best practice in these cases is to vectorize the operation using numpy which provides operations that act on data as vectos with \"comipled C-like\" execution speeds, similar to MATLAB."
   ]
  },
  {
   "cell_type": "code",
   "execution_count": 27,
   "metadata": {},
   "outputs": [],
   "source": [
    "data = np.random.randn(100000)"
   ]
  },
  {
   "cell_type": "code",
   "execution_count": 28,
   "metadata": {},
   "outputs": [
    {
     "name": "stdout",
     "output_type": "stream",
     "text": [
      "26.4 ms ± 445 µs per loop (mean ± std. dev. of 7 runs, 10 loops each)\n"
     ]
    }
   ],
   "source": [
    "%%timeit \n",
    "pos_vals = [x for x in data if x > 0]\n",
    "num_pos_vals = len(pos_vals)"
   ]
  },
  {
   "cell_type": "code",
   "execution_count": 29,
   "metadata": {},
   "outputs": [
    {
     "name": "stdout",
     "output_type": "stream",
     "text": [
      "660 µs ± 19.9 µs per loop (mean ± std. dev. of 7 runs, 1000 loops each)\n"
     ]
    }
   ],
   "source": [
    "%%timeit \n",
    "pos_vals = data[data > 0]\n",
    "num_pos_vals = len(pos_vals)"
   ]
  },
  {
   "cell_type": "code",
   "execution_count": 30,
   "metadata": {},
   "outputs": [
    {
     "name": "stdout",
     "output_type": "stream",
     "text": [
      "34.9 µs ± 1.23 µs per loop (mean ± std. dev. of 7 runs, 10000 loops each)\n"
     ]
    }
   ],
   "source": [
    "%%timeit \n",
    "num_pos_vals = np.count_nonzero(data > 0)"
   ]
  },
  {
   "cell_type": "markdown",
   "metadata": {},
   "source": [
    "**NOTE**: If you are tempted to write a loop to process something, take some time to convince yourself that there is no other way to do it.  Usually, when using `numpy` there is always a better and faster way than writing a `for` loop."
   ]
  },
  {
   "cell_type": "markdown",
   "metadata": {},
   "source": [
    "## Indexing"
   ]
  },
  {
   "cell_type": "markdown",
   "metadata": {},
   "source": [
    "Since arrays act mostly like sequences they can be indexed in similar ways using, single indexes and slices, one dimensional arrays are entirely analogous to a Python `list` but 2D arrays are more interesting."
   ]
  },
  {
   "cell_type": "code",
   "execution_count": 31,
   "metadata": {},
   "outputs": [
    {
     "data": {
      "text/plain": [
       "array([[0.170336  , 0.69817107, 0.1399532 , 0.30467586],\n",
       "       [0.14068559, 0.87900447, 0.89560403, 0.23635587],\n",
       "       [0.51876494, 0.27771471, 0.58562287, 0.35986252],\n",
       "       [0.54057544, 0.61565758, 0.50739648, 0.71581486],\n",
       "       [0.47495385, 0.48380363, 0.47921121, 0.73654186]])"
      ]
     },
     "execution_count": 31,
     "metadata": {},
     "output_type": "execute_result"
    }
   ],
   "source": [
    "c = np.random.rand(5,4)\n",
    "c"
   ]
  },
  {
   "cell_type": "code",
   "execution_count": 32,
   "metadata": {},
   "outputs": [
    {
     "data": {
      "text/plain": [
       "0.17033599958997026"
      ]
     },
     "execution_count": 32,
     "metadata": {},
     "output_type": "execute_result"
    }
   ],
   "source": [
    "c[0,0]"
   ]
  },
  {
   "cell_type": "code",
   "execution_count": 33,
   "metadata": {},
   "outputs": [
    {
     "data": {
      "text/plain": [
       "array([0.170336  , 0.14068559, 0.51876494, 0.54057544, 0.47495385])"
      ]
     },
     "execution_count": 33,
     "metadata": {},
     "output_type": "execute_result"
    }
   ],
   "source": [
    "c[:, 0]    # all rows of a single column"
   ]
  },
  {
   "cell_type": "code",
   "execution_count": 34,
   "metadata": {},
   "outputs": [
    {
     "data": {
      "text/plain": [
       "array([[0.69817107, 0.1399532 ],\n",
       "       [0.87900447, 0.89560403],\n",
       "       [0.27771471, 0.58562287],\n",
       "       [0.61565758, 0.50739648],\n",
       "       [0.48380363, 0.47921121]])"
      ]
     },
     "execution_count": 34,
     "metadata": {},
     "output_type": "execute_result"
    }
   ],
   "source": [
    "c[:, 1:3]  # all rows of multiple columns"
   ]
  },
  {
   "cell_type": "code",
   "execution_count": 35,
   "metadata": {},
   "outputs": [
    {
     "data": {
      "text/plain": [
       "array([0.47495385, 0.48380363, 0.47921121, 0.73654186])"
      ]
     },
     "execution_count": 35,
     "metadata": {},
     "output_type": "execute_result"
    }
   ],
   "source": [
    "c[-1, :]   # last row, all columns"
   ]
  },
  {
   "cell_type": "code",
   "execution_count": 36,
   "metadata": {},
   "outputs": [
    {
     "data": {
      "text/plain": [
       "array([[0.170336  , 0.69817107],\n",
       "       [0.14068559, 0.87900447]])"
      ]
     },
     "execution_count": 36,
     "metadata": {},
     "output_type": "execute_result"
    }
   ],
   "source": [
    "c[:2, :2]   # sub-array"
   ]
  },
  {
   "cell_type": "markdown",
   "metadata": {},
   "source": [
    "You can select these but it is very important to note that all of these are **views** of the original array, NOT copies.  If you assign a new value to the view the original is modified"
   ]
  },
  {
   "cell_type": "code",
   "execution_count": null,
   "metadata": {},
   "outputs": [],
   "source": [
    "b = c[-1, :]\n",
    "print(\"Before mod to b, c[-1, :] is: {}\".format(c[-1, :]))\n",
    "print('')\n",
    "b[:] = 2e3      # NOTE: b = 1e7 assigns the label b to the value 1e7, it does not assign to the array\n",
    "print(\"After mods to b, c[-1, :]: {}\".format(c[-1, :]))\n"
   ]
  },
  {
   "cell_type": "code",
   "execution_count": null,
   "metadata": {},
   "outputs": [],
   "source": [
    "# If you don't want a view then copy the data\n",
    "\n",
    "b = c[-1, :].copy()\n",
    "print(\"Before mods to b: {}\".format(c[-1, :]))\n",
    "print('')\n",
    "b[:] = 3e3    \n",
    "print(\"After mods to b: {}\".format(c[-1, :]))\n",
    "b"
   ]
  },
  {
   "cell_type": "markdown",
   "metadata": {},
   "source": [
    "## Fancy Indexing"
   ]
  },
  {
   "cell_type": "code",
   "execution_count": 37,
   "metadata": {},
   "outputs": [
    {
     "data": {
      "text/plain": [
       "array([-1.26825503, -1.46910856, -1.32461898, -1.26872483,  0.46259791,\n",
       "        1.20343066,  1.34451935, -0.29726479, -0.59980132, -1.01332617])"
      ]
     },
     "execution_count": 37,
     "metadata": {},
     "output_type": "execute_result"
    }
   ],
   "source": [
    "c = np.random.randn(10)\n",
    "c"
   ]
  },
  {
   "cell_type": "code",
   "execution_count": 38,
   "metadata": {},
   "outputs": [
    {
     "data": {
      "text/plain": [
       "array([ True,  True,  True,  True, False, False, False,  True,  True,\n",
       "        True])"
      ]
     },
     "execution_count": 38,
     "metadata": {},
     "output_type": "execute_result"
    }
   ],
   "source": [
    "c < 0.0"
   ]
  },
  {
   "cell_type": "code",
   "execution_count": null,
   "metadata": {},
   "outputs": [],
   "source": [
    "c[c < 0.0]"
   ]
  },
  {
   "cell_type": "code",
   "execution_count": null,
   "metadata": {},
   "outputs": [],
   "source": [
    "# If you want the indexes of the negative values, NOTE: the output is a tuple\n",
    "lz_idxs = np.nonzero(c < 0.0) \n",
    "lz_idxs"
   ]
  },
  {
   "cell_type": "code",
   "execution_count": null,
   "metadata": {},
   "outputs": [],
   "source": [
    "lz_idxs[0]# get the array itself"
   ]
  },
  {
   "cell_type": "code",
   "execution_count": null,
   "metadata": {},
   "outputs": [],
   "source": [
    "# If you just want to count the number of values less than 0, this is by far the fastest way\n",
    "np.count_nonzero(c < 0.0)"
   ]
  },
  {
   "cell_type": "code",
   "execution_count": null,
   "metadata": {},
   "outputs": [],
   "source": [
    "d=np.random.randn(10000,1000)"
   ]
  },
  {
   "cell_type": "code",
   "execution_count": null,
   "metadata": {},
   "outputs": [],
   "source": [
    "%%timeit\n",
    "len(np.nonzero(d<0.0)[0])"
   ]
  },
  {
   "cell_type": "code",
   "execution_count": null,
   "metadata": {},
   "outputs": [],
   "source": [
    "%%timeit\n",
    "np.count_nonzero(d<0.0)"
   ]
  },
  {
   "cell_type": "code",
   "execution_count": null,
   "metadata": {},
   "outputs": [],
   "source": [
    "d=np.random.randn(10,4)\n",
    "d"
   ]
  },
  {
   "cell_type": "code",
   "execution_count": null,
   "metadata": {},
   "outputs": [],
   "source": [
    "# Select only those rows with negative in the first column\n",
    "d[d[:, 0] < 0.0, :]"
   ]
  },
  {
   "cell_type": "markdown",
   "metadata": {},
   "source": [
    "## Operating on arrays"
   ]
  },
  {
   "cell_type": "code",
   "execution_count": 39,
   "metadata": {},
   "outputs": [
    {
     "data": {
      "text/plain": [
       "array([0, 1, 2, 3, 4])"
      ]
     },
     "execution_count": 39,
     "metadata": {},
     "output_type": "execute_result"
    }
   ],
   "source": [
    "d = np.arange(5)\n",
    "d"
   ]
  },
  {
   "cell_type": "code",
   "execution_count": 40,
   "metadata": {},
   "outputs": [
    {
     "data": {
      "text/plain": [
       "array([5.  , 6.23, 7.46, 8.69, 9.92])"
      ]
     },
     "execution_count": 40,
     "metadata": {},
     "output_type": "execute_result"
    }
   ],
   "source": [
    "e=d*1.23 + 5    # element-wise operation\n",
    "e"
   ]
  },
  {
   "cell_type": "code",
   "execution_count": 41,
   "metadata": {},
   "outputs": [],
   "source": [
    "apple =np.array([3.4, 3.24, 1.73, 4.58, 5.67, 3.78, 2.15])"
   ]
  },
  {
   "cell_type": "markdown",
   "metadata": {},
   "source": [
    "### Member functions"
   ]
  },
  {
   "cell_type": "code",
   "execution_count": 42,
   "metadata": {},
   "outputs": [
    {
     "name": "stdout",
     "output_type": "stream",
     "text": [
      "Minimum value 1.73 at index 2\n",
      "Maximum value 5.67 at index 4\n"
     ]
    }
   ],
   "source": [
    "print(\"Minimum value {} at index {}\".format(apple.min(), apple.argmin()))\n",
    "print(\"Maximum value {} at index {}\".format(apple.max(), apple.argmax()))"
   ]
  },
  {
   "cell_type": "code",
   "execution_count": 43,
   "metadata": {},
   "outputs": [
    {
     "name": "stdout",
     "output_type": "stream",
     "text": [
      "Mean value 3.5071\n",
      "Variance 1.5695, standard deviation 1.2528\n"
     ]
    }
   ],
   "source": [
    "# Mean, median, variance and standard deviation\n",
    "\n",
    "mnv = apple.mean()\n",
    "vrv = apple.var()\n",
    "sdv = apple.std()\n",
    "\n",
    "print(\"Mean value {:.4f}\".format(mnv))\n",
    "print(\"Variance {:.4f}, standard deviation {:.4f}\".format(vrv, sdv))"
   ]
  },
  {
   "cell_type": "markdown",
   "metadata": {},
   "source": [
    "### Universal functions"
   ]
  },
  {
   "cell_type": "markdown",
   "metadata": {},
   "source": [
    "Unviersal functions or `ufuncs` are numpy functions that can be applied to an array or in the case of 2 and higher dimensional arrays along a particular axis.  These functions will return either a value or an array depending on their identity (statistical summary functions reduce the dimensionality) and how they are called.  Here are some statistical examples"
   ]
  },
  {
   "cell_type": "code",
   "execution_count": 44,
   "metadata": {},
   "outputs": [
    {
     "name": "stdout",
     "output_type": "stream",
     "text": [
      "Minimum value 1.73 at index 2\n",
      "Maximum value 5.67 at index 4\n"
     ]
    }
   ],
   "source": [
    "minval, minloc = np.amin(apple), np.argmin(apple)\n",
    "maxval, maxloc = np.amax(apple), np.argmax(apple)\n",
    "\n",
    "print(\"Minimum value {} at index {}\".format(minval, minloc))\n",
    "print(\"Maximum value {} at index {}\".format(maxval, maxloc))"
   ]
  },
  {
   "cell_type": "code",
   "execution_count": null,
   "metadata": {},
   "outputs": [],
   "source": [
    "# Peak-to-peak or range of values in array (max-min)\n",
    "ptpval = np.ptp(apple)  \n",
    "\n",
    "ptpval == np.amax(apple)-np.amin(apple)   # Compare outputs"
   ]
  },
  {
   "cell_type": "code",
   "execution_count": null,
   "metadata": {},
   "outputs": [],
   "source": [
    "# Mean, median, variance and standard deviation\n",
    "\n",
    "mnv = np.mean(apple)\n",
    "mdv = np.median(apple)      # NOTE: apple.median() doesn't exist, why? \n",
    "vrv = np.var(apple)\n",
    "sdv = np.std(apple)\n",
    "\n",
    "print(\"Mean value {:.4f}, median value {:.4f}\".format(mnv, mdv))\n",
    "print(\"Variance {:.4f}, standard deviation {:.4f}\".format(vrv, sdv))"
   ]
  },
  {
   "cell_type": "code",
   "execution_count": null,
   "metadata": {},
   "outputs": [],
   "source": [
    "# Apply Bessel's correction to sample varaince and standard deviation\n",
    "#   divide by N-1 instead of N in formulas\n",
    "s1 = np.std(apple, ddof=1) \n",
    "v1 = np.var(apple, ddof=1)\n",
    "\n",
    "print(\"Variance {:.4f}, standard deviation {:.4f}\".format(v1, s1))"
   ]
  },
  {
   "cell_type": "code",
   "execution_count": null,
   "metadata": {},
   "outputs": [],
   "source": [
    "# Weighted average also supported\n",
    "wghts = [1.0, 2.0, 1.0, 1.0, 30.0, 6.0, 1.0]\n",
    "uwmnv = np.average(apple)\n",
    "wmnv = np.average(apple, weights=wghts)\n",
    "\n",
    "print(\"Unweighted mean value: {:.4f}\".format(uwmnv))\n",
    "print(\"Weighted mean value:   {:.4f}\".format(wmnv))"
   ]
  },
  {
   "cell_type": "markdown",
   "metadata": {},
   "source": [
    "Additional `ufuncs` are available for\n",
    "\n",
    "- trigonometric functions `sin`, `cos`, `tan`, `arcsin`, `arccos`, `arctan` \n",
    "- hyperbolic functions: `sinh`, `cosh`, `tanh`, ...\n",
    "- exponential functions: `exp`, `log`, `log10`, ...\n",
    "- rounding: `round`, `floor`, `ceil`, ...\n",
    "- summation, products and difference: `sum`, `cumsum`, `cumprod`, `diff`, ...\n",
    "- statistical functions: as above\n",
    "\n",
    "and many more.  The majority of these function operate element by element, but much faster than looping through each element can calling a bare Python function."
   ]
  },
  {
   "cell_type": "markdown",
   "metadata": {},
   "source": [
    "## Handling nans"
   ]
  },
  {
   "cell_type": "code",
   "execution_count": null,
   "metadata": {},
   "outputs": [],
   "source": [
    "pear = np.array([1.2, 2.3, np.nan, 3.4, 4.6, 7.9,])\n",
    "pear"
   ]
  },
  {
   "cell_type": "code",
   "execution_count": null,
   "metadata": {},
   "outputs": [],
   "source": [
    "np.amax(pear), np.nanmax(pear)"
   ]
  },
  {
   "cell_type": "code",
   "execution_count": null,
   "metadata": {},
   "outputs": [],
   "source": [
    "np.mean(pear), np.nanmean(pear)"
   ]
  },
  {
   "cell_type": "code",
   "execution_count": null,
   "metadata": {},
   "outputs": [],
   "source": [
    "# Sanity check\n",
    "(1.2+2.3+3.4+4.6+7.9)/5 == np.nanmean(pear)"
   ]
  },
  {
   "cell_type": "markdown",
   "metadata": {},
   "source": [
    "## Working with 2D arrays"
   ]
  },
  {
   "cell_type": "code",
   "execution_count": null,
   "metadata": {},
   "outputs": [],
   "source": [
    "peach = np.array([[1, 3], [4, 6], [15, 20]])\n",
    "peach"
   ]
  },
  {
   "cell_type": "code",
   "execution_count": null,
   "metadata": {},
   "outputs": [],
   "source": [
    "np.amax(peach)"
   ]
  },
  {
   "cell_type": "code",
   "execution_count": null,
   "metadata": {},
   "outputs": [],
   "source": [
    "# axis 0 is the \"first axis\" or columns (give me the min of each column)\n",
    "# axis 1 is the \"second axis\" or rows (give me the min for each row)\n",
    "\n",
    "np.amin(peach, axis=0), np.amin(peach, axis=1)"
   ]
  },
  {
   "cell_type": "code",
   "execution_count": null,
   "metadata": {},
   "outputs": [],
   "source": [
    "# Statistical functions also work this way\n",
    "np.mean(peach, axis=0), np.std(peach, axis=0)"
   ]
  },
  {
   "cell_type": "markdown",
   "metadata": {},
   "source": [
    "## Other features"
   ]
  },
  {
   "cell_type": "markdown",
   "metadata": {},
   "source": [
    "The primary features that I use day to day are detailed above, there are many additional features:\n",
    "\n",
    "- [numpy.fft](http://docs.scipy.org/doc/numpy/reference/routines.fft.html): support for FFT evaluation\n",
    "- [numpy.ma](http://docs.scipy.org/doc/numpy/reference/routines.ma.html): support for creating masked arrays\n",
    "- [numpy.linalg](http://docs.scipy.org/doc/numpy/reference/routines.linalg.html): support for linear algebra, matrix inversion, eigenvalues, ...\n",
    "- [numpy.random](http://docs.scipy.org/doc/numpy/reference/routines.random.html): random sampling, statistical distribution functions, ..."
   ]
  }
 ],
 "metadata": {
  "kernelspec": {
   "display_name": "Python 3",
   "language": "python",
   "name": "python3"
  },
  "language_info": {
   "codemirror_mode": {
    "name": "ipython",
    "version": 3
   },
   "file_extension": ".py",
   "mimetype": "text/x-python",
   "name": "python",
   "nbconvert_exporter": "python",
   "pygments_lexer": "ipython3",
   "version": "3.7.3"
  }
 },
 "nbformat": 4,
 "nbformat_minor": 1
}
