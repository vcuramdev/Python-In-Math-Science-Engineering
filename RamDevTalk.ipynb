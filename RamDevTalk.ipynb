{
 "cells": [
  {
   "cell_type": "markdown",
   "metadata": {},
   "source": [
    "# RamDev TechTalk"
   ]
  },
  {
   "cell_type": "markdown",
   "metadata": {},
   "source": [
    "## Python - WhirlWind Tour"
   ]
  },
  {
   "cell_type": "code",
   "execution_count": 56,
   "metadata": {},
   "outputs": [
    {
     "data": {
      "text/plain": [
       "(int, float)"
      ]
     },
     "execution_count": 56,
     "metadata": {},
     "output_type": "execute_result"
    }
   ],
   "source": [
    "peach = 2\n",
    "pear = 1.2    # a floating point type (double precision -> 64 bits == 8 bytes)\n",
    "type(peach), type(pear)"
   ]
  },
  {
   "cell_type": "code",
   "execution_count": 57,
   "metadata": {},
   "outputs": [
    {
     "data": {
      "text/plain": [
       "(1.2, 0.0)"
      ]
     },
     "execution_count": 57,
     "metadata": {},
     "output_type": "execute_result"
    }
   ],
   "source": [
    "pear.real, pear.imag  # pear is also an object"
   ]
  },
  {
   "cell_type": "code",
   "execution_count": 58,
   "metadata": {},
   "outputs": [
    {
     "data": {
      "text/plain": [
       "((1-2j), 2.23606797749979)"
      ]
     },
     "execution_count": 58,
     "metadata": {},
     "output_type": "execute_result"
    }
   ],
   "source": [
    "# Python does complex numbers TOO!\n",
    "kumquat = 1-2j\n",
    "kumquat, abs(kumquat)"
   ]
  },
  {
   "cell_type": "code",
   "execution_count": 59,
   "metadata": {},
   "outputs": [
    {
     "data": {
      "text/plain": [
       "21"
      ]
     },
     "execution_count": 59,
     "metadata": {},
     "output_type": "execute_result"
    }
   ],
   "source": [
    "message = 'otters rule the world'\n",
    "len(message)"
   ]
  },
  {
   "cell_type": "markdown",
   "metadata": {},
   "source": [
    "### List, Dicts, Tuples and Sets"
   ]
  },
  {
   "cell_type": "code",
   "execution_count": 60,
   "metadata": {},
   "outputs": [],
   "source": [
    "# A list \n",
    "apples = [1, 2, 3, 4]\n",
    "# A dict\n",
    "constants = {'PI': 3.141569, 'e': 2.718, 'NA': 6.022e23}\n",
    "# A tuple\n",
    "broccoli = (1,2, 'abc', [3.5, 4.5, 5.5], 'Rose Lavelle is REALLY GOOD at football/soccer')\n",
    "# A set\n",
    "quinoa = { 10, 20, 30, 40, 50}"
   ]
  },
  {
   "cell_type": "code",
   "execution_count": 74,
   "metadata": {},
   "outputs": [
    {
     "data": {
      "text/plain": [
       "[2, 3]"
      ]
     },
     "execution_count": 74,
     "metadata": {},
     "output_type": "execute_result"
    }
   ],
   "source": [
    "# Slicing\n",
    "apples[1:3]    # can also write this as apples[:2]"
   ]
  },
  {
   "cell_type": "code",
   "execution_count": 62,
   "metadata": {},
   "outputs": [
    {
     "name": "stdout",
     "output_type": "stream",
     "text": [
      "3\n",
      "6\n",
      "9\n",
      "12\n"
     ]
    }
   ],
   "source": [
    "# Iteration\n",
    "for apple in apples:          # sort of like a foreach kind of construct, but notice we don't a loop index\n",
    "    print(apple*3)"
   ]
  },
  {
   "cell_type": "code",
   "execution_count": 75,
   "metadata": {},
   "outputs": [
    {
     "data": {
      "text/plain": [
       "[1, 2, 3, 4, 10, 10]"
      ]
     },
     "execution_count": 75,
     "metadata": {},
     "output_type": "execute_result"
    }
   ],
   "source": [
    "# Dynamic growth\n",
    "apples.append(10)\n",
    "apples"
   ]
  },
  {
   "cell_type": "code",
   "execution_count": 76,
   "metadata": {},
   "outputs": [
    {
     "name": "stdout",
     "output_type": "stream",
     "text": [
      "Area of circle of radius 3 equals 28.274121\n"
     ]
    }
   ],
   "source": [
    "r = 3\n",
    "print(f\"Area of circle of radius {r} equals {constants['PI']*r**2}\")"
   ]
  },
  {
   "cell_type": "code",
   "execution_count": 77,
   "metadata": {},
   "outputs": [
    {
     "data": {
      "text/plain": [
       "{10, 11, 20, 30, 40, 50}"
      ]
     },
     "execution_count": 77,
     "metadata": {},
     "output_type": "execute_result"
    }
   ],
   "source": [
    "# Set does not allow duplicates\n",
    "quinoa.add(10)\n",
    "quinoa"
   ]
  },
  {
   "cell_type": "code",
   "execution_count": 78,
   "metadata": {},
   "outputs": [
    {
     "data": {
      "text/plain": [
       "{10, 11, 20, 30, 40, 50, 114}"
      ]
     },
     "execution_count": 78,
     "metadata": {},
     "output_type": "execute_result"
    }
   ],
   "source": [
    "quinoa.add(114)\n",
    "quinoa"
   ]
  },
  {
   "cell_type": "markdown",
   "metadata": {},
   "source": [
    "### Strings\n",
    "\n",
    "Another useful builtin type in Python is a string, and there are several ways to define these you can use \n",
    "- single quotes `'your string here'`\n",
    "- double quotes `\"your string here\"`, and \n",
    "- triple quotes (for multiline strings) `'''your string here'''`"
   ]
  },
  {
   "cell_type": "code",
   "execution_count": 79,
   "metadata": {},
   "outputs": [],
   "source": [
    "# If you know where this poem comes from without Googling, I will buy you a drink of your choice\n",
    "first_line = \"Button, O Button, where hast though fled\"\n",
    "second_line = \"Didst thou tarry too long, 'mongst needle and thread\""
   ]
  },
  {
   "cell_type": "code",
   "execution_count": 68,
   "metadata": {},
   "outputs": [
    {
     "name": "stdout",
     "output_type": "stream",
     "text": [
      "Button, O Button, where hast though fled\n",
      "Didst thou tarry too long, 'mongst needle and thread\n"
     ]
    }
   ],
   "source": [
    "print(first_line + '\\n' + second_line)"
   ]
  },
  {
   "cell_type": "code",
   "execution_count": 69,
   "metadata": {},
   "outputs": [
    {
     "data": {
      "text/plain": [
       "'Bto,O'"
      ]
     },
     "execution_count": 69,
     "metadata": {},
     "output_type": "execute_result"
    }
   ],
   "source": [
    "first_line[:10:2]    # Slicing Works"
   ]
  },
  {
   "cell_type": "markdown",
   "metadata": {},
   "source": [
    "### Conditional Statements\n",
    "\n",
    "Whenever you need to make a decision you need a conditional statment or more simply an `if` statement.   If this is `True` do thing 1, if it isn't do thing 2.  To make a comparison you use the following operators which can produce a `bool` or you use anything (like a function or method) which produces a `bool`.\n",
    "\n",
    "- Comparisons: `==`, `!=`, `>`, `<`, `>=`, `<=`\n",
    "    - These may seem like they are exclusive to numeric types but they can (and often do) work for other types\n",
    "- Anything that results in a bool `(True | False)` can be in the conditional clause\n",
    "    - For example, say you had a method `is_palindrome(x)` which returned `True` or `False` "
   ]
  },
  {
   "cell_type": "code",
   "execution_count": 70,
   "metadata": {},
   "outputs": [],
   "source": [
    "a=1;b=2;c=3;d=4"
   ]
  },
  {
   "cell_type": "code",
   "execution_count": 71,
   "metadata": {},
   "outputs": [],
   "source": [
    "# if-elif-else\n",
    "#\n",
    "if a == b:\n",
    "    # do work if a == b is True\n",
    "    pass\n",
    "    if c == d:\n",
    "        pass\n",
    "    elif a < b:\n",
    "        pass\n",
    "    # do work if a < b is True\n",
    "    pass\n",
    "else:\n",
    "    # do this if a > b\n",
    "    pass"
   ]
  },
  {
   "cell_type": "markdown",
   "metadata": {},
   "source": [
    "### Iteration\n",
    "\n",
    "Computers are REALLY good at doing the same thing over and over again, with possibly slightly different inputs.  One way to build out this concept in code is using **iteration**.  In Python the two main iterative constructs are \n",
    "\n",
    "- `for` loops: exectute code, increment a counter or some proxy and execute again, stope when counter or proxy *runs out*\n",
    "- `while` loops: execute code, check a condition, repeat, stop when condition is `False`"
   ]
  },
  {
   "cell_type": "code",
   "execution_count": 80,
   "metadata": {},
   "outputs": [
    {
     "name": "stdout",
     "output_type": "stream",
     "text": [
      "0 \t  0 \t  0\n",
      "1 \t  3 \t  1\n",
      "2 \t  6 \t  8\n",
      "3 \t  9 \t 27\n",
      "4 \t 12 \t 64\n",
      "5 \t 15 \t 125\n",
      "6 \t 18 \t 216\n",
      "7 \t 21 \t 343\n",
      "8 \t 24 \t 512\n",
      "9 \t 27 \t 729\n"
     ]
    }
   ],
   "source": [
    "for val in range(10):\n",
    "    print(f\"{val} \\t {val*3:2d} \\t {val**3:2d}\")"
   ]
  },
  {
   "cell_type": "code",
   "execution_count": 81,
   "metadata": {},
   "outputs": [
    {
     "name": "stdout",
     "output_type": "stream",
     "text": [
      "Hello Peter\n",
      "Hello Paul\n",
      "Hello Mary\n"
     ]
    }
   ],
   "source": [
    "for item in [\"Peter\", \"Paul\", \"Mary\"]:\n",
    "    print(f\"Hello {item}\")"
   ]
  },
  {
   "cell_type": "code",
   "execution_count": null,
   "metadata": {},
   "outputs": [],
   "source": []
  }
 ],
 "metadata": {
  "kernelspec": {
   "display_name": "Python 3",
   "language": "python",
   "name": "python3"
  },
  "language_info": {
   "codemirror_mode": {
    "name": "ipython",
    "version": 3
   },
   "file_extension": ".py",
   "mimetype": "text/x-python",
   "name": "python",
   "nbconvert_exporter": "python",
   "pygments_lexer": "ipython3",
   "version": "3.7.3"
  }
 },
 "nbformat": 4,
 "nbformat_minor": 2
}
