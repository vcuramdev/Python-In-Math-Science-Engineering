{
 "cells": [
  {
   "cell_type": "markdown",
   "metadata": {},
   "source": [
    "# Scipy Survey"
   ]
  },
  {
   "cell_type": "markdown",
   "metadata": {},
   "source": [
    "[Scipy](http://www.scipy.org/) is built on top of `numpy` and provides extended functionality to support mathematic, scientific and engineering programming applications.   The library or package has a lot of different things in it and you may never need certain sub-packages, it all depends on your work.   The sub-packages in no particular order are:\n",
    "\n",
    "- [scipy.constant](http://docs.scipy.org/doc/scipy/reference/constants.html) - scientific constants\n",
    "- [scipy.special](http://docs.scipy.org/doc/scipy/reference/special.html) - special functions, Airy, Bessel, Elliptic, Gamma, ...\n",
    "- [scipy.integrate](http://docs.scipy.org/doc/scipy/reference/integrate.html) - numerical integration\n",
    "- [scipy.optimize](http://docs.scipy.org/doc/scipy/reference/optimize.html) - minimization routines\n",
    "- [scipy.interpolate](http://docs.scipy.org/doc/scipy/reference/interpolate.html)\n",
    "- [scipy.fftpack](http://docs.scipy.org/doc/scipy/reference/fftpack.html) - FFT, IFFT\n",
    "- [scipy.signal](http://docs.scipy.org/doc/scipy/reference/signal.html) - filtering, convolution, filter definition\n",
    "- [scipy.linalg](http://docs.scipy.org/doc/scipy/reference/linalg.html) - linear algebra\n",
    "- [scipy.stats](http://docs.scipy.org/doc/scipy/reference/stats.html) - continuous and discrete distribution functions, kurtosis, skew, ...\n",
    "- [scipy.io](http://docs.scipy.org/doc/scipy/reference/tutorial/io.html) - input/output utilities\n"
   ]
  },
  {
   "cell_type": "code",
   "execution_count": 13,
   "metadata": {},
   "outputs": [
    {
     "name": "stdout",
     "output_type": "stream",
     "text": [
      "Scipy version: 1.3.0\n"
     ]
    }
   ],
   "source": [
    "import numpy as np\n",
    "import scipy as sp\n",
    "\n",
    "import matplotlib.pyplot as plt\n",
    "\n",
    "# plot all graphs inline\n",
    "%matplotlib inline    \n",
    "\n",
    "print(\"Scipy version: {}\".format(sp.__version__))"
   ]
  },
  {
   "cell_type": "code",
   "execution_count": 14,
   "metadata": {
    "code_folding": [
     0
    ]
   },
   "outputs": [],
   "source": [
    "def plot2compare(a, b, labels=None, relative=False):\n",
    "    \"\"\" Plots two data sets and their differences\n",
    "\n",
    "    :param a: first data set (displayed as black dots)\n",
    "    :param b: second data set (displayed as red circles)\n",
    "\n",
    "    .. seealso:\n",
    "      * :py:func:`matplotlib.pyplot.plot`\n",
    "      * :py:func:`matplotlib.pyplot.subplot`\n",
    "\n",
    "    \"\"\"\n",
    "    import matplotlib.pyplot as plt\n",
    "\n",
    "    if labels:\n",
    "        label_a, label_b = labels\n",
    "    else:\n",
    "        label_a, label_b = 'A', 'B'\n",
    "\n",
    "    plt.figure()\n",
    "\n",
    "    ax1 = plt.subplot(211)\n",
    "    plt.plot(a, '.-k', label=label_a)\n",
    "    plt.plot(b, 'or', fillstyle='none', label=label_b)\n",
    "    plt.grid()\n",
    "    plt.legend()\n",
    "\n",
    "    plt.subplot(212, sharex=ax1)\n",
    "    if relative:\n",
    "        plt.plot((b - a)*100/a, 'ok', label='Relative Difference')\n",
    "        plt.ylabel(\"Percent\")\n",
    "    else:\n",
    "        plt.plot(b - a, 'ok', label='Absolute Difference')\n",
    "    plt.legend()\n",
    "    plt.grid()\n",
    "    plt.show()"
   ]
  },
  {
   "cell_type": "markdown",
   "metadata": {},
   "source": [
    "## Input/Output"
   ]
  },
  {
   "cell_type": "code",
   "execution_count": 15,
   "metadata": {},
   "outputs": [],
   "source": [
    "# Primarily useful for loading MATLAB data and saving to MATLAB files\n",
    "import scipy.io as sio"
   ]
  },
  {
   "cell_type": "code",
   "execution_count": 16,
   "metadata": {},
   "outputs": [],
   "source": [
    "matlab_data = sio.loadmat('data/from_waveform_1')"
   ]
  },
  {
   "cell_type": "code",
   "execution_count": 17,
   "metadata": {},
   "outputs": [
    {
     "data": {
      "text/plain": [
       "dict_keys(['__header__', '__version__', '__globals__', 'Fs', 't', 'x', 'RR', 'RR_tm', 'raw_rr', 'raw_rr_tm', 'goodness'])"
      ]
     },
     "execution_count": 17,
     "metadata": {},
     "output_type": "execute_result"
    }
   ],
   "source": [
    "matlab_data.keys()"
   ]
  },
  {
   "cell_type": "code",
   "execution_count": 18,
   "metadata": {},
   "outputs": [
    {
     "data": {
      "text/plain": [
       "array([[16]], dtype=uint8)"
      ]
     },
     "execution_count": 18,
     "metadata": {},
     "output_type": "execute_result"
    }
   ],
   "source": [
    "Fs = matlab_data['Fs']\n",
    "Fs"
   ]
  },
  {
   "cell_type": "code",
   "execution_count": 19,
   "metadata": {},
   "outputs": [
    {
     "data": {
      "text/plain": [
       "16"
      ]
     },
     "execution_count": 19,
     "metadata": {},
     "output_type": "execute_result"
    }
   ],
   "source": [
    "Fs[0][0]"
   ]
  },
  {
   "cell_type": "code",
   "execution_count": 20,
   "metadata": {},
   "outputs": [
    {
     "data": {
      "text/plain": [
       "array([[-1.0710295 ],\n",
       "       [ 0.38290271],\n",
       "       [ 0.14407628],\n",
       "       ...,\n",
       "       [-1.43495636],\n",
       "       [-1.11206127],\n",
       "       [-1.59906774]])"
      ]
     },
     "execution_count": 20,
     "metadata": {},
     "output_type": "execute_result"
    }
   ],
   "source": [
    "x = matlab_data['x']\n",
    "x"
   ]
  },
  {
   "cell_type": "code",
   "execution_count": 21,
   "metadata": {},
   "outputs": [
    {
     "data": {
      "text/plain": [
       "array([-1.0710295 ,  0.38290271,  0.14407628, ..., -1.43495636,\n",
       "       -1.11206127, -1.59906774])"
      ]
     },
     "execution_count": 21,
     "metadata": {},
     "output_type": "execute_result"
    }
   ],
   "source": [
    "x.flatten()  # remove N X 1 structure"
   ]
  },
  {
   "cell_type": "code",
   "execution_count": null,
   "metadata": {},
   "outputs": [],
   "source": [
    "x.T[0]       # same thing, just a different way"
   ]
  },
  {
   "cell_type": "markdown",
   "metadata": {},
   "source": [
    "## Filtering"
   ]
  },
  {
   "cell_type": "markdown",
   "metadata": {},
   "source": [
    "### FIR Filter"
   ]
  },
  {
   "cell_type": "code",
   "execution_count": 22,
   "metadata": {},
   "outputs": [],
   "source": [
    "from scipy.signal import firwin, lfilter, filtfilt\n",
    "\n",
    "fs = 5\n",
    "x= 2*np.pi*np.linspace(0, 1, 1000)*fs\n",
    "data = np.sin(x) \n",
    "data += 0.05*np.random.randn(len(data))\n",
    "\n",
    "b = firwin(65, 22*2/125.)\n",
    "\n",
    "filt_out_1_fir = lfilter(b, [1], data)\n",
    "filt_out_2_fir = filtfilt(b, [1], data)"
   ]
  },
  {
   "cell_type": "code",
   "execution_count": 23,
   "metadata": {},
   "outputs": [
    {
     "data": {
      "image/png": "[encoded data removed]",
      "text/plain": [
       "<Figure size 432x288 with 1 Axes>"
      ]
     },
     "metadata": {
      "needs_background": "light"
     },
     "output_type": "display_data"
    }
   ],
   "source": [
    "plt.plot(x[:150], data[:150], 'b.', )\n",
    "plt.plot(x[:150], filt_out_1_fir[:150], 'r-')\n",
    "plt.plot(x[:150], filt_out_2_fir[:150], 'k-')\n",
    "plt.grid(True)"
   ]
  },
  {
   "cell_type": "markdown",
   "metadata": {},
   "source": [
    "### IIR Filter"
   ]
  },
  {
   "cell_type": "code",
   "execution_count": 24,
   "metadata": {},
   "outputs": [],
   "source": [
    "from scipy.signal import butter\n",
    "\n",
    "n_order = 5\n",
    "b_lpf, a_lpf = butter(n_order, 0.1, 'low')"
   ]
  },
  {
   "cell_type": "code",
   "execution_count": 25,
   "metadata": {},
   "outputs": [],
   "source": [
    "filt_out_1_iir = lfilter(b_lpf, a_lpf, data)\n",
    "filt_out_2_iir = filtfilt(b_lpf, a_lpf, data)"
   ]
  },
  {
   "cell_type": "code",
   "execution_count": 26,
   "metadata": {},
   "outputs": [
    {
     "data": {
      "image/png": "[encoded data removed]",
      "text/plain": [
       "<Figure size 432x288 with 1 Axes>"
      ]
     },
     "metadata": {
      "needs_background": "light"
     },
     "output_type": "display_data"
    }
   ],
   "source": [
    "plt.plot(x[:150], data[:150], 'b.', )\n",
    "plt.plot(x[:150], filt_out_1_iir[:150], 'r-')\n",
    "plt.plot(x[:150], filt_out_2_iir[:150], 'm-')\n",
    "plt.grid(True)"
   ]
  },
  {
   "cell_type": "markdown",
   "metadata": {},
   "source": [
    "## Interpolation"
   ]
  },
  {
   "cell_type": "code",
   "execution_count": 32,
   "metadata": {},
   "outputs": [],
   "source": [
    "import scipy.interpolate as interpolate"
   ]
  },
  {
   "cell_type": "markdown",
   "metadata": {},
   "source": [
    "\n",
    "### 1D Interpolation"
   ]
  },
  {
   "cell_type": "code",
   "execution_count": 33,
   "metadata": {},
   "outputs": [
    {
     "data": {
      "text/plain": [
       "(array([0., 1., 2., 3., 4., 5., 6., 7., 8., 9.]),\n",
       " array([-0.13475131,  1.01420469,  1.64340435,  3.04165752,  3.66389976,\n",
       "         5.25022353,  5.82171513,  7.06943342,  7.93039154,  8.97748292]))"
      ]
     },
     "execution_count": 33,
     "metadata": {},
     "output_type": "execute_result"
    }
   ],
   "source": [
    "x = np.arange(10.)\n",
    "y = x + 0.2*np.random.randn(10)\n",
    "xnew = np.linspace(0., 9., 100)\n",
    "x,y"
   ]
  },
  {
   "cell_type": "code",
   "execution_count": 34,
   "metadata": {},
   "outputs": [],
   "source": [
    "interpolate.interp1d?"
   ]
  },
  {
   "cell_type": "code",
   "execution_count": 35,
   "metadata": {},
   "outputs": [
    {
     "data": {
      "image/png": "[encoded data removed]",
      "text/plain": [
       "<Figure size 432x288 with 1 Axes>"
      ]
     },
     "metadata": {
      "needs_background": "light"
     },
     "output_type": "display_data"
    }
   ],
   "source": [
    "# linear interpolation \n",
    "fp = interpolate.interp1d(x, y)\n",
    "ynew = fp(xnew)\n",
    "\n",
    "plt.plot(x, y, 'bo', )\n",
    "plt.plot(xnew, ynew, 'g.-')\n",
    "plt.grid(True)"
   ]
  },
  {
   "cell_type": "code",
   "execution_count": 36,
   "metadata": {},
   "outputs": [
    {
     "data": {
      "text/plain": [
       "array([ 0.        ,  0.1010101 ,  0.2020202 ,  0.3030303 ,  0.4040404 ,\n",
       "        0.50505051,  0.60606061,  0.70707071,  0.80808081,  0.90909091,\n",
       "        1.01010101,  1.11111111,  1.21212121,  1.31313131,  1.41414141,\n",
       "        1.51515152,  1.61616162,  1.71717172,  1.81818182,  1.91919192,\n",
       "        2.02020202,  2.12121212,  2.22222222,  2.32323232,  2.42424242,\n",
       "        2.52525253,  2.62626263,  2.72727273,  2.82828283,  2.92929293,\n",
       "        3.03030303,  3.13131313,  3.23232323,  3.33333333,  3.43434343,\n",
       "        3.53535354,  3.63636364,  3.73737374,  3.83838384,  3.93939394,\n",
       "        4.04040404,  4.14141414,  4.24242424,  4.34343434,  4.44444444,\n",
       "        4.54545455,  4.64646465,  4.74747475,  4.84848485,  4.94949495,\n",
       "        5.05050505,  5.15151515,  5.25252525,  5.35353535,  5.45454545,\n",
       "        5.55555556,  5.65656566,  5.75757576,  5.85858586,  5.95959596,\n",
       "        6.06060606,  6.16161616,  6.26262626,  6.36363636,  6.46464646,\n",
       "        6.56565657,  6.66666667,  6.76767677,  6.86868687,  6.96969697,\n",
       "        7.07070707,  7.17171717,  7.27272727,  7.37373737,  7.47474747,\n",
       "        7.57575758,  7.67676768,  7.77777778,  7.87878788,  7.97979798,\n",
       "        8.08080808,  8.18181818,  8.28282828,  8.38383838,  8.48484848,\n",
       "        8.58585859,  8.68686869,  8.78787879,  8.88888889,  8.98989899,\n",
       "        9.09090909,  9.19191919,  9.29292929,  9.39393939,  9.49494949,\n",
       "        9.5959596 ,  9.6969697 ,  9.7979798 ,  9.8989899 , 10.        ])"
      ]
     },
     "execution_count": 36,
     "metadata": {},
     "output_type": "execute_result"
    },
    {
     "data": {
      "image/png": "[encoded data removed]",
      "text/plain": [
       "<Figure size 432x288 with 1 Axes>"
      ]
     },
     "metadata": {
      "needs_background": "light"
     },
     "output_type": "display_data"
    }
   ],
   "source": [
    "# linear interpolation outside bounds of data\n",
    "xnew2 =  np.linspace(0., 10., 100)\n",
    "\n",
    "# ynew = fp(xnew2)  gives error\n",
    "fp = interpolate.interp1d(x, y, bounds_error=False)\n",
    "ynew = fp(xnew2)\n",
    "\n",
    "plt.plot(x, y, 'bo', )\n",
    "plt.plot(xnew2, ynew, 'g.-')\n",
    "plt.grid(True)\n",
    "xnew2"
   ]
  },
  {
   "cell_type": "code",
   "execution_count": null,
   "metadata": {},
   "outputs": [],
   "source": [
    "# nans not plotted but \n",
    "ynew[-15:]"
   ]
  },
  {
   "cell_type": "markdown",
   "metadata": {},
   "source": [
    "### pchip Interpolation"
   ]
  },
  {
   "cell_type": "code",
   "execution_count": null,
   "metadata": {},
   "outputs": [],
   "source": [
    "x=np.arange(-3., 4)\n",
    "y = np.array([-1, -1, -1, 0, 1, 1, 1])\n",
    "t=np.arange(-3., 3, 0.1)\n",
    "\n",
    "# Matlab example of pchip\n",
    "\n",
    "p = interpolate.pchip_interpolate(x,y,t)\n",
    "ax = plt.figure()\n",
    "plt.plot(x,y,'o',t,p,'-')\n",
    "plt.ylim([-1.5, 1.5])\n",
    "plt.legend(['data','pchip'], loc='best')\n",
    "plt.legend"
   ]
  },
  {
   "cell_type": "code",
   "execution_count": null,
   "metadata": {},
   "outputs": [],
   "source": [
    "import os\n",
    "\n",
    "filename = os.path.join('.', 'data', 'pchip', 'tm.mat')\n",
    "tm = sio.loadmat(filename)['tm'].flatten()\n",
    "\n",
    "filename = os.path.join('.', 'data', 'pchip', 'env.mat')\n",
    "pks = sio.loadmat(filename)['pks'].flatten()\n",
    "\n",
    "filename = os.path.join('.', 'data', 'pchip', 'tenv.mat')\n",
    "tenv = sio.loadmat(filename)['tenv'].flatten()\n",
    "\n",
    "py_pchip = interpolate.pchip_interpolate(tm, pks, tenv)"
   ]
  },
  {
   "cell_type": "code",
   "execution_count": null,
   "metadata": {},
   "outputs": [],
   "source": [
    "plt.plot(tm[:50], pks[:50], 'bo', )\n",
    "plt.plot(tenv[:600], py_pchip[:600], 'r.-')\n",
    "plt.grid(True)"
   ]
  },
  {
   "cell_type": "markdown",
   "metadata": {},
   "source": [
    "## Spectrogram"
   ]
  },
  {
   "cell_type": "code",
   "execution_count": null,
   "metadata": {},
   "outputs": [],
   "source": [
    "import scipy.signal as spsig\n",
    "\n",
    "file_path = os.path.join('data', 'rr-min-psd.mat')\n",
    "data_exp = sio.loadmat(file_path)\n",
    "\n",
    "psd_matlab = data_exp['PS']\n",
    "rs = data_exp['rs'].flatten()"
   ]
  },
  {
   "cell_type": "code",
   "execution_count": null,
   "metadata": {},
   "outputs": [],
   "source": [
    "# Create spectrogram\n",
    "freq, tm, psd = spsig.spectrogram(rs, fs=16, window='hamming', nperseg=640,\n",
    "                                   noverlap=480, nfft=1024, detrend=False)"
   ]
  },
  {
   "cell_type": "code",
   "execution_count": null,
   "metadata": {},
   "outputs": [],
   "source": [
    "plot2compare(psd_matlab[0], psd[0], ['matlab', 'python'])"
   ]
  },
  {
   "cell_type": "code",
   "execution_count": null,
   "metadata": {},
   "outputs": [],
   "source": []
  }
 ],
 "metadata": {
  "kernelspec": {
   "display_name": "Python 3",
   "language": "python",
   "name": "python3"
  },
  "language_info": {
   "codemirror_mode": {
    "name": "ipython",
    "version": 3
   },
   "file_extension": ".py",
   "mimetype": "text/x-python",
   "name": "python",
   "nbconvert_exporter": "python",
   "pygments_lexer": "ipython3",
   "version": "3.7.3"
  }
 },
 "nbformat": 4,
 "nbformat_minor": 1
}
